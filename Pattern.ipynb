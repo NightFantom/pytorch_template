{
 "cells": [
  {
   "cell_type": "markdown",
   "metadata": {},
   "source": [
    "# Standart"
   ]
  },
  {
   "cell_type": "code",
   "execution_count": null,
   "metadata": {},
   "outputs": [],
   "source": [
    "import torch\n",
    "import torch.nn as nn\n",
    "from torch.utils.data import DataLoader, Dataset\n",
    "from tqdm import tqdm_notebook"
   ]
  },
  {
   "cell_type": "code",
   "execution_count": null,
   "metadata": {},
   "outputs": [],
   "source": [
    "class TrainWrapper:\n",
    "    \n",
    "    def __init__(self, model, train_dl, test_dl, epoch, save_path, verbose=True, **karg)\n",
    "        self.model = model\n",
    "        self.train_dl = train_dl\n",
    "        self.test_dl = test_dl\n",
    "        self.verbose = verbose\n",
    "        self.save_path = save_path\n",
    "        self.epoch = epoch\n",
    "        self.optimizer = karg[\"optimizer\"]\n",
    "        self.loss_func = karg[\"loss_func\"]\n",
    "        self.loss_val_list = []\n",
    "        self.min_loss = 9999999\n",
    "    \n",
    "    def train(self)\n",
    "        if self.verbose:\n",
    "            train_dl = tqdm_notebook(self.train_dl)\n",
    "            \n",
    "        for epoch in range(self.epoch):\n",
    "            if self.verbose:\n",
    "                print(f\"Epoch: {epoch}\")\n",
    "            self.model.train()\n",
    "            epoch_loss = 0\n",
    "            for data_list in train_dl:\n",
    "                vectors, labels = self.prepare_data(data_list)\n",
    "                output = self.model(data)\n",
    "                \n",
    "                loss_val = self.loss_func(output, labels)\n",
    "                loss_val.backward()\n",
    "                epoch_loss += loss_val.item()\n",
    "                \n",
    "                optimizer.step()\n",
    "                \n",
    "            if epoch_loss < self.min_loss:\n",
    "                    torch.save(model.state_dict(), self.save_path)\n",
    "                    \n",
    "            self.evaluate()\n",
    "    \n",
    "    def prepare_data(self, data):\n",
    "        pass\n",
    "    \n",
    "    def evaluate(self):\n",
    "        pred_list = []\n",
    "        true_label = []\n",
    "        self.model.eval()\n",
    "        \n",
    "        if self.verbose:\n",
    "            test_dl = tqdm_notebook(self.test_dl)\n",
    "            \n",
    "        with torch.no_grad():\n",
    "            for data_list in test_dl:\n",
    "                vectors, labels = self.prepare_data(data_list)\n",
    "                true_label.extend(labels)\n",
    "                \n",
    "                output = self.model(data)\n",
    "                prediction = torch.argmax(output).item()\n",
    "                pred_list.append(prediction)\n",
    "        \n",
    "        score = f1_score(true_label, pred_list, average=\"macro\")\n",
    "        print(\"F1 macro: {score}\")\n",
    "        \n",
    "    def load_model(self):\n",
    "        data = torch.load(self.save_path)\n",
    "        self.model = self.model.load_state_dict(data)"
   ]
  }
 ],
 "metadata": {
  "kernelspec": {
   "display_name": "Python 3",
   "language": "python",
   "name": "python3"
  },
  "language_info": {
   "codemirror_mode": {
    "name": "ipython",
    "version": 3
   },
   "file_extension": ".py",
   "mimetype": "text/x-python",
   "name": "python",
   "nbconvert_exporter": "python",
   "pygments_lexer": "ipython3",
   "version": "3.7.0"
  },
  "varInspector": {
   "cols": {
    "lenName": 16,
    "lenType": 16,
    "lenVar": 40
   },
   "kernels_config": {
    "python": {
     "delete_cmd_postfix": "",
     "delete_cmd_prefix": "del ",
     "library": "var_list.py",
     "varRefreshCmd": "print(var_dic_list())"
    },
    "r": {
     "delete_cmd_postfix": ") ",
     "delete_cmd_prefix": "rm(",
     "library": "var_list.r",
     "varRefreshCmd": "cat(var_dic_list()) "
    }
   },
   "types_to_exclude": [
    "module",
    "function",
    "builtin_function_or_method",
    "instance",
    "_Feature"
   ],
   "window_display": false
  }
 },
 "nbformat": 4,
 "nbformat_minor": 2
}
